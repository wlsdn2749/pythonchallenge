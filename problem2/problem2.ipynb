{
 "cells": [
  {
   "cell_type": "markdown",
   "metadata": {},
   "source": [
    "# Python Challenge 2\n",
    "\n",
    "<img src=\"./problem.png\" width=\"500\" height=\"500\">\n",
    "\n",
    "## Look at the page source\n",
    "\n",
    "<img src=\"./page-source-problem2.png\" width=\"500\" height=\"500\">\n",
    "\n",
    "Find rare characters in the mess means\n",
    "\n",
    "there are characters counted only one in the mess\n",
    "\n",
    "so my solution is :\n",
    "- using <strong>set</strong> -> failed because set is unordered that can't find appropriate words\n",
    "- <strong>dict.fromkeys(list)</strong> and using <strong>str.isalpha</strong> \n",
    "\n",
    "### Answer is equality"
   ]
  },
  {
   "cell_type": "code",
   "execution_count": 2,
   "metadata": {},
   "outputs": [
    {
     "name": "stdout",
     "output_type": "stream",
     "text": [
      "equality\n"
     ]
    }
   ],
   "source": [
    "with open(\"./problem2.txt\", \"r\", encoding=\"utf-8\") as f:\n",
    "    file_string = f.read()\n",
    "\n",
    "    set_file_string = dict.fromkeys(list(file_string))\n",
    "    set_file_string = \"\".join(list(filter(str.isalpha, set_file_string)))\n",
    "    print(set_file_string)\n"
   ]
  },
  {
   "cell_type": "code",
   "execution_count": null,
   "metadata": {},
   "outputs": [],
   "source": []
  }
 ],
 "metadata": {
  "kernelspec": {
   "display_name": "Python 3.8.5 64-bit ('3.8.5')",
   "language": "python",
   "name": "python3"
  },
  "language_info": {
   "codemirror_mode": {
    "name": "ipython",
    "version": 3
   },
   "file_extension": ".py",
   "mimetype": "text/x-python",
   "name": "python",
   "nbconvert_exporter": "python",
   "pygments_lexer": "ipython3",
   "version": "3.8.5"
  },
  "orig_nbformat": 4,
  "vscode": {
   "interpreter": {
    "hash": "444d1ea7a344fbc25eee6300e960d1cb16153d3729f63dcd8ee9781cbebac3de"
   }
  }
 },
 "nbformat": 4,
 "nbformat_minor": 2
}
